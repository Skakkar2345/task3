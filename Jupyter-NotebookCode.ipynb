{
 "cells": [
  {
   "cell_type": "code",
   "execution_count": 1,
   "id": "20c1d60a",
   "metadata": {},
   "outputs": [
    {
     "name": "stdout",
     "output_type": "stream",
     "text": [
      "Requirement already satisfied: nltk in ./opt/anaconda3/lib/python3.9/site-packages (3.7)\r\n",
      "Requirement already satisfied: regex>=2021.8.3 in ./opt/anaconda3/lib/python3.9/site-packages (from nltk) (2022.3.15)\r\n",
      "Requirement already satisfied: click in ./opt/anaconda3/lib/python3.9/site-packages (from nltk) (8.0.4)\r\n",
      "Requirement already satisfied: joblib in ./opt/anaconda3/lib/python3.9/site-packages (from nltk) (1.1.0)\r\n",
      "Requirement already satisfied: tqdm in ./opt/anaconda3/lib/python3.9/site-packages (from nltk) (4.64.0)\r\n"
     ]
    }
   ],
   "source": [
    "!pip install nltk\n"
   ]
  },
  {
   "cell_type": "code",
   "execution_count": 2,
   "id": "768073fe",
   "metadata": {},
   "outputs": [],
   "source": [
    "import nltk\n",
    "from nltk.tokenize import word_tokenize, sent_tokenize\n",
    "from nltk.corpus import stopwords\n",
    "import csv\n"
   ]
  },
  {
   "cell_type": "code",
   "execution_count": 6,
   "id": "22f2a6a9",
   "metadata": {},
   "outputs": [
    {
     "name": "stderr",
     "output_type": "stream",
     "text": [
      "[nltk_data] Downloading package punkt to\n",
      "[nltk_data]     /Users/nischaynidhi/nltk_data...\n",
      "[nltk_data]   Package punkt is already up-to-date!\n"
     ]
    },
    {
     "data": {
      "text/plain": [
       "True"
      ]
     },
     "execution_count": 6,
     "metadata": {},
     "output_type": "execute_result"
    }
   ],
   "source": [
    "import nltk\n",
    "nltk.download('punkt')\n",
    "\n"
   ]
  },
  {
   "cell_type": "code",
   "execution_count": 4,
   "id": "cf002659",
   "metadata": {},
   "outputs": [
    {
     "name": "stdout",
     "output_type": "stream",
     "text": [
      "['primary', 'secondary', 'reversible', 'irreversible', 'risk', 'fire', 'explosion', 'compliance', 'injury', 'ingestion']\n"
     ]
    }
   ],
   "source": [
    "def extract_keywords_from_text(excerpt):\n",
    "    # Tokenize the text into sentences and words\n",
    "    sentences = sent_tokenize(excerpt)\n",
    "    words = [word.lower() for sentence in sentences for word in word_tokenize(sentence)]\n",
    "\n",
    "    # Remove stopwords and punctuation\n",
    "    stop_words = set(stopwords.words('english'))\n",
    "    words = [word for word in words if word.isalnum() and word not in stop_words]\n",
    "\n",
    "    # Define the keywords/phrases you want to extract\n",
    "    keywords_to_extract = [\n",
    "        \"lithium batteries\", \"primary\", \"secondary\", \"metallic lithium\", \"lithium alloy\", \"lithium-ion\",\n",
    "        \"electrochemical cell\", \"reversible\", \"irreversible\", \"technician-replaceable\", \"user-replaceable\",\n",
    "        \"risk\", \"fire\", \"explosion\", \"complete product\", \"compliance\", \"injury\", \"metallic lithium content\",\n",
    "        \"toxicity risk\", \"ingestion\", \"cutting open the battery\"\n",
    "    ]\n",
    "\n",
    "    # Extract the keywords from the text\n",
    "    extracted_keywords = []\n",
    "    for keyword in keywords_to_extract:\n",
    "        if keyword in words:\n",
    "            extracted_keywords.append(keyword)\n",
    "\n",
    "    # Create CSV file\n",
    "    csv_file = \"extracted_keywords.csv\"\n",
    "    with open(csv_file, 'w', newline='', encoding='utf-8') as file:\n",
    "        writer = csv.writer(file)\n",
    "        writer.writerow([\"title\", \"keywords\"])\n",
    "        writer.writerow([\"Safety Requirements for Lithium Batteries\", \", \".join(extracted_keywords)])\n",
    "\n",
    "    return extracted_keywords\n",
    "def save_to_csv(extracted_keywords):\n",
    "    csv_file = \"extracted_keywords.csv\"\n",
    "    with open(csv_file, 'w', newline='', encoding='utf-8') as file:\n",
    "        writer = csv.writer(file)\n",
    "        writer.writerow([\"title\", \"keywords\"])\n",
    "        writer.writerow([\"Safety Requirements for Lithium Batteries\", \", \".join(extracted_keywords)])\n",
    "input_excerpt = \"\"\"\n",
    "These requirements cover primary (nonrechargeable) and secondary (rechargeable) lithium\n",
    "batteries for use as power sources in products. These batteries contain metallic lithium, or a\n",
    "lithium alloy, or a lithium ion, and may consist of a single electrochemical cell or two or more\n",
    "cells connected in series, parallel, or both, that convert chemical energy into electrical energy by\n",
    "an irreversible or reversible chemical reaction. 1.2 These requirements cover lithium batteries\n",
    "intended for use in technician-replaceable or user- replaceable applications. 1.3 These\n",
    "requirements are intended to reduce the risk of fire or explosion when lithium batteries are used\n",
    "in a product. The final acceptability of these batteries is dependent on their use in a complete\n",
    "product that complies with the requirements applicable to such product. 1.4 These requirements\n",
    "are also intended to reduce the risk of injury to persons due to fire or explosion when user-\n",
    "replaceable lithium batteries are removed from a product and discarded. 1.5 These requirements\n",
    "cover technician-replaceable lithium batteries that contain 5.0 g (0.18 oz) or less of metallic\n",
    "lithium. A battery containing more than 5.0 g (0.18 oz) of lithium is judged on the basis of\n",
    "compliance with the requirements in this standard, insofar as they are applicable, and further\n",
    "examination and test to determine whether the battery is acceptable for its intended uses. 1.6\n",
    "These requirements cover user-replaceable lithium batteries that contain 4.0 g (0.13 oz) or less of\n",
    "metallic lithium with not more than 1.0 g (0.04 oz) of metallic lithium in each electrochemical\n",
    "cell. A battery containing more than 4.0 g (0.13 oz) or a cell containing more than 1.0 g (0.04 oz)\n",
    "lithium may require further examination and test to determine whether the cells or batteries are\n",
    "acceptable for their intended uses. 1.7 These requirements do not cover the toxicity risk that may\n",
    "result from the ingestion of a lithium battery or its contents, nor the risk of injury to persons that\n",
    "\"\"\"\n",
    "extracted_keywords = extract_keywords_from_text(input_excerpt)\n",
    "print(extracted_keywords)"
   ]
  }
 ],
 "metadata": {
  "kernelspec": {
   "display_name": "Python 3 (ipykernel)",
   "language": "python",
   "name": "python3"
  },
  "language_info": {
   "codemirror_mode": {
    "name": "ipython",
    "version": 3
   },
   "file_extension": ".py",
   "mimetype": "text/x-python",
   "name": "python",
   "nbconvert_exporter": "python",
   "pygments_lexer": "ipython3",
   "version": "3.10.7"
  }
 },
 "nbformat": 4,
 "nbformat_minor": 5
}
